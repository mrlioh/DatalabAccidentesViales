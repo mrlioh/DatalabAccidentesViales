{
 "cells": [
  {
   "cell_type": "markdown",
   "id": "d6e385d0",
   "metadata": {},
   "source": [
    "# Análisis de regresión lineal múltiple para estudiar el comportamiento de los accidentes en el 2022."
   ]
  },
  {
   "cell_type": "code",
   "execution_count": 27,
   "id": "97660bf6",
   "metadata": {},
   "outputs": [],
   "source": [
    "#cargamos las librerías que necesitaremos:\n",
    "import pandas as pd\n",
    "import matplotlib.pyplot as plt"
   ]
  },
  {
   "cell_type": "code",
   "execution_count": 4,
   "id": "e5a989ba",
   "metadata": {},
   "outputs": [],
   "source": [
    "#abrimos el archivo\n",
    "data = pd.read_excel('BaseDatos2022.xlsx')"
   ]
  },
  {
   "cell_type": "code",
   "execution_count": 6,
   "id": "12e10614",
   "metadata": {},
   "outputs": [
    {
     "data": {
      "text/html": [
       "<div>\n",
       "<style scoped>\n",
       "    .dataframe tbody tr th:only-of-type {\n",
       "        vertical-align: middle;\n",
       "    }\n",
       "\n",
       "    .dataframe tbody tr th {\n",
       "        vertical-align: top;\n",
       "    }\n",
       "\n",
       "    .dataframe thead th {\n",
       "        text-align: right;\n",
       "    }\n",
       "</style>\n",
       "<table border=\"1\" class=\"dataframe\">\n",
       "  <thead>\n",
       "    <tr style=\"text-align: right;\">\n",
       "      <th></th>\n",
       "      <th>folio</th>\n",
       "      <th>fecha_creacion</th>\n",
       "      <th>hora_creacion</th>\n",
       "      <th>dia_semana</th>\n",
       "      <th>fecha_cierre</th>\n",
       "      <th>hora_cierre</th>\n",
       "      <th>tipo_incidente_c4</th>\n",
       "      <th>incidente_c4</th>\n",
       "      <th>alcaldia_inicio</th>\n",
       "      <th>latitud</th>\n",
       "      <th>longitud</th>\n",
       "      <th>codigo_cierre</th>\n",
       "      <th>clas_con_f_alarma</th>\n",
       "      <th>tipo_entrada</th>\n",
       "      <th>alcaldia_cierre</th>\n",
       "      <th>colonia</th>\n",
       "    </tr>\n",
       "  </thead>\n",
       "  <tbody>\n",
       "    <tr>\n",
       "      <th>0</th>\n",
       "      <td>C2C/20220101/00012</td>\n",
       "      <td>2022-01-01</td>\n",
       "      <td>01:06:39</td>\n",
       "      <td>SÃ¡bado</td>\n",
       "      <td>2022-01-01</td>\n",
       "      <td>06:00:12</td>\n",
       "      <td>Accidente</td>\n",
       "      <td>Choque con lesionados</td>\n",
       "      <td>CUAUHTEMOC</td>\n",
       "      <td>19.415250</td>\n",
       "      <td>-99.148320</td>\n",
       "      <td>A</td>\n",
       "      <td>URGENCIAS MEDICAS</td>\n",
       "      <td>BOTÃ“N DE AUXILIO</td>\n",
       "      <td>CUAUHTEMOC</td>\n",
       "      <td>DOCTORES IV</td>\n",
       "    </tr>\n",
       "    <tr>\n",
       "      <th>1</th>\n",
       "      <td>C2C/20220101/00070</td>\n",
       "      <td>2022-01-01</td>\n",
       "      <td>09:51:53</td>\n",
       "      <td>SÃ¡bado</td>\n",
       "      <td>2022-01-01</td>\n",
       "      <td>12:54:10</td>\n",
       "      <td>Accidente</td>\n",
       "      <td>Motociclista</td>\n",
       "      <td>CUAUHTEMOC</td>\n",
       "      <td>19.443649</td>\n",
       "      <td>-99.165781</td>\n",
       "      <td>A</td>\n",
       "      <td>URGENCIAS MEDICAS</td>\n",
       "      <td>RADIO</td>\n",
       "      <td>CUAUHTEMOC</td>\n",
       "      <td>TLAXPANA</td>\n",
       "    </tr>\n",
       "    <tr>\n",
       "      <th>2</th>\n",
       "      <td>C2N/20220101/00057</td>\n",
       "      <td>2022-01-01</td>\n",
       "      <td>03:33:05</td>\n",
       "      <td>SÃ¡bado</td>\n",
       "      <td>2022-01-01</td>\n",
       "      <td>06:44:09</td>\n",
       "      <td>Accidente</td>\n",
       "      <td>Choque con lesionados</td>\n",
       "      <td>VENUSTIANO CARRANZA</td>\n",
       "      <td>19.451360</td>\n",
       "      <td>-99.115660</td>\n",
       "      <td>D</td>\n",
       "      <td>URGENCIAS MEDICAS</td>\n",
       "      <td>BOTÃ“N DE AUXILIO</td>\n",
       "      <td>VENUSTIANO CARRANZA</td>\n",
       "      <td>POPULAR RASTRO</td>\n",
       "    </tr>\n",
       "    <tr>\n",
       "      <th>3</th>\n",
       "      <td>C2N/20220101/00101</td>\n",
       "      <td>2022-01-01</td>\n",
       "      <td>09:56:54</td>\n",
       "      <td>SÃ¡bado</td>\n",
       "      <td>2022-01-01</td>\n",
       "      <td>13:04:08</td>\n",
       "      <td>Accidente</td>\n",
       "      <td>Choque sin lesionados</td>\n",
       "      <td>GUSTAVO A. MADERO</td>\n",
       "      <td>19.451630</td>\n",
       "      <td>-99.054690</td>\n",
       "      <td>A</td>\n",
       "      <td>EMERGENCIA</td>\n",
       "      <td>BOTÃ“N DE AUXILIO</td>\n",
       "      <td>GUSTAVO A. MADERO</td>\n",
       "      <td>C T M ARAGON (U)</td>\n",
       "    </tr>\n",
       "    <tr>\n",
       "      <th>4</th>\n",
       "      <td>C2N/20220101/00160</td>\n",
       "      <td>2022-01-01</td>\n",
       "      <td>18:10:42</td>\n",
       "      <td>SÃ¡bado</td>\n",
       "      <td>2022-01-01</td>\n",
       "      <td>21:14:13</td>\n",
       "      <td>Accidente</td>\n",
       "      <td>Choque con lesionados</td>\n",
       "      <td>GUSTAVO A. MADERO</td>\n",
       "      <td>19.482540</td>\n",
       "      <td>-99.082310</td>\n",
       "      <td>D</td>\n",
       "      <td>URGENCIAS MEDICAS</td>\n",
       "      <td>BOTÃ“N DE AUXILIO</td>\n",
       "      <td>GUSTAVO A. MADERO</td>\n",
       "      <td>CAMPESTRE ARAGON II</td>\n",
       "    </tr>\n",
       "  </tbody>\n",
       "</table>\n",
       "</div>"
      ],
      "text/plain": [
       "                folio fecha_creacion hora_creacion dia_semana fecha_cierre  \\\n",
       "0  C2C/20220101/00012     2022-01-01      01:06:39    SÃ¡bado   2022-01-01   \n",
       "1  C2C/20220101/00070     2022-01-01      09:51:53    SÃ¡bado   2022-01-01   \n",
       "2  C2N/20220101/00057     2022-01-01      03:33:05    SÃ¡bado   2022-01-01   \n",
       "3  C2N/20220101/00101     2022-01-01      09:56:54    SÃ¡bado   2022-01-01   \n",
       "4  C2N/20220101/00160     2022-01-01      18:10:42    SÃ¡bado   2022-01-01   \n",
       "\n",
       "  hora_cierre tipo_incidente_c4           incidente_c4      alcaldia_inicio  \\\n",
       "0    06:00:12         Accidente  Choque con lesionados           CUAUHTEMOC   \n",
       "1    12:54:10         Accidente           Motociclista           CUAUHTEMOC   \n",
       "2    06:44:09         Accidente  Choque con lesionados  VENUSTIANO CARRANZA   \n",
       "3    13:04:08         Accidente  Choque sin lesionados    GUSTAVO A. MADERO   \n",
       "4    21:14:13         Accidente  Choque con lesionados    GUSTAVO A. MADERO   \n",
       "\n",
       "     latitud   longitud codigo_cierre  clas_con_f_alarma       tipo_entrada  \\\n",
       "0  19.415250 -99.148320             A  URGENCIAS MEDICAS  BOTÃ“N DE AUXILIO   \n",
       "1  19.443649 -99.165781             A  URGENCIAS MEDICAS              RADIO   \n",
       "2  19.451360 -99.115660             D  URGENCIAS MEDICAS  BOTÃ“N DE AUXILIO   \n",
       "3  19.451630 -99.054690             A         EMERGENCIA  BOTÃ“N DE AUXILIO   \n",
       "4  19.482540 -99.082310             D  URGENCIAS MEDICAS  BOTÃ“N DE AUXILIO   \n",
       "\n",
       "       alcaldia_cierre              colonia  \n",
       "0           CUAUHTEMOC          DOCTORES IV  \n",
       "1           CUAUHTEMOC             TLAXPANA  \n",
       "2  VENUSTIANO CARRANZA       POPULAR RASTRO  \n",
       "3    GUSTAVO A. MADERO     C T M ARAGON (U)  \n",
       "4    GUSTAVO A. MADERO  CAMPESTRE ARAGON II  "
      ]
     },
     "execution_count": 6,
     "metadata": {},
     "output_type": "execute_result"
    }
   ],
   "source": [
    "data.head()"
   ]
  },
  {
   "cell_type": "code",
   "execution_count": 13,
   "id": "83350f43",
   "metadata": {},
   "outputs": [
    {
     "data": {
      "text/plain": [
       "Accidente               209863\n",
       "Lesionado                23933\n",
       "CadÃ¡ver                   523\n",
       "Mi Calle                   322\n",
       "DetenciÃ³n ciudadana       177\n",
       "Sismo                       62\n",
       "Mi Taxi                     58\n",
       "Name: tipo_incidente_c4, dtype: int64"
      ]
     },
     "execution_count": 13,
     "metadata": {},
     "output_type": "execute_result"
    }
   ],
   "source": [
    "data[\"tipo_incidente_c4\"].value_counts()"
   ]
  },
  {
   "cell_type": "code",
   "execution_count": 11,
   "id": "468b46de",
   "metadata": {},
   "outputs": [
    {
     "data": {
      "text/plain": [
       "SÃ¡bado       39797\n",
       "Viernes       37445\n",
       "Domingo       34617\n",
       "Jueves        31642\n",
       "Lunes         30593\n",
       "MiÃ©rcoles    30469\n",
       "Martes        30375\n",
       "Name: dia_semana, dtype: int64"
      ]
     },
     "execution_count": 11,
     "metadata": {},
     "output_type": "execute_result"
    }
   ],
   "source": [
    "data[\"dia_semana\"].value_counts()"
   ]
  },
  {
   "cell_type": "code",
   "execution_count": 12,
   "id": "589c35d0",
   "metadata": {},
   "outputs": [
    {
     "data": {
      "text/plain": [
       "JARDINES DEL PEDREGAL                             1396\n",
       "JUAREZ                                            1280\n",
       "CUAUHTEMOC                                        1271\n",
       "PEON DE LOS BAOS                                  1199\n",
       "SAN JUAN DE ARAGON 4A  Y 5A SECCION (U HAB) II    1160\n",
       "                                                  ... \n",
       "LA MILAGROSA                                         1\n",
       "SCT (U HAB)                                          1\n",
       "BELEN DE LAS FLORES SECCION RELLENO                  1\n",
       "MOLINO DEL REY                                       1\n",
       "VILLAS DEL PEDREGAL (U HAB)                          1\n",
       "Name: colonia, Length: 1671, dtype: int64"
      ]
     },
     "execution_count": 12,
     "metadata": {},
     "output_type": "execute_result"
    }
   ],
   "source": [
    "data[\"colonia\"].value_counts()"
   ]
  },
  {
   "cell_type": "markdown",
   "id": "635bbaef",
   "metadata": {},
   "source": [
    " veamos cuáles son las colonias que tienen más de 500 incidentes reportados:"
   ]
  },
  {
   "cell_type": "code",
   "execution_count": 43,
   "id": "e83be9d0",
   "metadata": {},
   "outputs": [
    {
     "ename": "AttributeError",
     "evalue": "'Series' object has no attribute 'show'",
     "output_type": "error",
     "traceback": [
      "\u001b[0;31m---------------------------------------------------------------------------\u001b[0m",
      "\u001b[0;31mAttributeError\u001b[0m                            Traceback (most recent call last)",
      "Cell \u001b[0;32mIn[43], line 3\u001b[0m\n\u001b[1;32m      1\u001b[0m col_principales \u001b[38;5;241m=\u001b[39m (data[\u001b[38;5;124m'\u001b[39m\u001b[38;5;124mcolonia\u001b[39m\u001b[38;5;124m'\u001b[39m]\u001b[38;5;241m.\u001b[39mvalue_counts() \u001b[38;5;241m>\u001b[39m \u001b[38;5;241m500\u001b[39m)\n\u001b[1;32m      2\u001b[0m col_principales\n\u001b[0;32m----> 3\u001b[0m \u001b[43mcol_principales\u001b[49m\u001b[38;5;241;43m.\u001b[39;49m\u001b[43mshow\u001b[49m()\n",
      "File \u001b[0;32m~/anaconda3/lib/python3.10/site-packages/pandas/core/generic.py:5902\u001b[0m, in \u001b[0;36mNDFrame.__getattr__\u001b[0;34m(self, name)\u001b[0m\n\u001b[1;32m   5895\u001b[0m \u001b[38;5;28;01mif\u001b[39;00m (\n\u001b[1;32m   5896\u001b[0m     name \u001b[38;5;129;01mnot\u001b[39;00m \u001b[38;5;129;01min\u001b[39;00m \u001b[38;5;28mself\u001b[39m\u001b[38;5;241m.\u001b[39m_internal_names_set\n\u001b[1;32m   5897\u001b[0m     \u001b[38;5;129;01mand\u001b[39;00m name \u001b[38;5;129;01mnot\u001b[39;00m \u001b[38;5;129;01min\u001b[39;00m \u001b[38;5;28mself\u001b[39m\u001b[38;5;241m.\u001b[39m_metadata\n\u001b[1;32m   5898\u001b[0m     \u001b[38;5;129;01mand\u001b[39;00m name \u001b[38;5;129;01mnot\u001b[39;00m \u001b[38;5;129;01min\u001b[39;00m \u001b[38;5;28mself\u001b[39m\u001b[38;5;241m.\u001b[39m_accessors\n\u001b[1;32m   5899\u001b[0m     \u001b[38;5;129;01mand\u001b[39;00m \u001b[38;5;28mself\u001b[39m\u001b[38;5;241m.\u001b[39m_info_axis\u001b[38;5;241m.\u001b[39m_can_hold_identifiers_and_holds_name(name)\n\u001b[1;32m   5900\u001b[0m ):\n\u001b[1;32m   5901\u001b[0m     \u001b[38;5;28;01mreturn\u001b[39;00m \u001b[38;5;28mself\u001b[39m[name]\n\u001b[0;32m-> 5902\u001b[0m \u001b[38;5;28;01mreturn\u001b[39;00m \u001b[38;5;28;43mobject\u001b[39;49m\u001b[38;5;241;43m.\u001b[39;49m\u001b[38;5;21;43m__getattribute__\u001b[39;49m\u001b[43m(\u001b[49m\u001b[38;5;28;43mself\u001b[39;49m\u001b[43m,\u001b[49m\u001b[43m \u001b[49m\u001b[43mname\u001b[49m\u001b[43m)\u001b[49m\n",
      "\u001b[0;31mAttributeError\u001b[0m: 'Series' object has no attribute 'show'"
     ]
    }
   ],
   "source": [
    "col_principales = (data['colonia'].value_counts() > 500)\n",
    "col_principales\n",
    "col_principales.show()"
   ]
  },
  {
   "cell_type": "markdown",
   "id": "40835b54",
   "metadata": {},
   "source": [
    "Veamos cómo se ve el comportamiento de los regresores contra la variable de respuesta.\n",
    "Elegimos estudiar solo los accidentes sin reporte de lesionado"
   ]
  },
  {
   "cell_type": "code",
   "execution_count": 23,
   "id": "b78a3fb9",
   "metadata": {},
   "outputs": [],
   "source": [
    "accidentes = data[ data[\"tipo_incidente_c4\"] == \"Accidente\"  ]\n"
   ]
  },
  {
   "cell_type": "code",
   "execution_count": 24,
   "id": "4b6afc0d",
   "metadata": {},
   "outputs": [
    {
     "data": {
      "text/html": [
       "<div>\n",
       "<style scoped>\n",
       "    .dataframe tbody tr th:only-of-type {\n",
       "        vertical-align: middle;\n",
       "    }\n",
       "\n",
       "    .dataframe tbody tr th {\n",
       "        vertical-align: top;\n",
       "    }\n",
       "\n",
       "    .dataframe thead th {\n",
       "        text-align: right;\n",
       "    }\n",
       "</style>\n",
       "<table border=\"1\" class=\"dataframe\">\n",
       "  <thead>\n",
       "    <tr style=\"text-align: right;\">\n",
       "      <th></th>\n",
       "      <th>folio</th>\n",
       "      <th>fecha_creacion</th>\n",
       "      <th>hora_creacion</th>\n",
       "      <th>dia_semana</th>\n",
       "      <th>fecha_cierre</th>\n",
       "      <th>hora_cierre</th>\n",
       "      <th>tipo_incidente_c4</th>\n",
       "      <th>incidente_c4</th>\n",
       "      <th>alcaldia_inicio</th>\n",
       "      <th>latitud</th>\n",
       "      <th>longitud</th>\n",
       "      <th>codigo_cierre</th>\n",
       "      <th>clas_con_f_alarma</th>\n",
       "      <th>tipo_entrada</th>\n",
       "      <th>alcaldia_cierre</th>\n",
       "      <th>colonia</th>\n",
       "    </tr>\n",
       "  </thead>\n",
       "  <tbody>\n",
       "    <tr>\n",
       "      <th>0</th>\n",
       "      <td>C2C/20220101/00012</td>\n",
       "      <td>2022-01-01</td>\n",
       "      <td>01:06:39</td>\n",
       "      <td>SÃ¡bado</td>\n",
       "      <td>2022-01-01</td>\n",
       "      <td>06:00:12</td>\n",
       "      <td>Accidente</td>\n",
       "      <td>Choque con lesionados</td>\n",
       "      <td>CUAUHTEMOC</td>\n",
       "      <td>19.415250</td>\n",
       "      <td>-99.148320</td>\n",
       "      <td>A</td>\n",
       "      <td>URGENCIAS MEDICAS</td>\n",
       "      <td>BOTÃ“N DE AUXILIO</td>\n",
       "      <td>CUAUHTEMOC</td>\n",
       "      <td>DOCTORES IV</td>\n",
       "    </tr>\n",
       "    <tr>\n",
       "      <th>1</th>\n",
       "      <td>C2C/20220101/00070</td>\n",
       "      <td>2022-01-01</td>\n",
       "      <td>09:51:53</td>\n",
       "      <td>SÃ¡bado</td>\n",
       "      <td>2022-01-01</td>\n",
       "      <td>12:54:10</td>\n",
       "      <td>Accidente</td>\n",
       "      <td>Motociclista</td>\n",
       "      <td>CUAUHTEMOC</td>\n",
       "      <td>19.443649</td>\n",
       "      <td>-99.165781</td>\n",
       "      <td>A</td>\n",
       "      <td>URGENCIAS MEDICAS</td>\n",
       "      <td>RADIO</td>\n",
       "      <td>CUAUHTEMOC</td>\n",
       "      <td>TLAXPANA</td>\n",
       "    </tr>\n",
       "    <tr>\n",
       "      <th>2</th>\n",
       "      <td>C2N/20220101/00057</td>\n",
       "      <td>2022-01-01</td>\n",
       "      <td>03:33:05</td>\n",
       "      <td>SÃ¡bado</td>\n",
       "      <td>2022-01-01</td>\n",
       "      <td>06:44:09</td>\n",
       "      <td>Accidente</td>\n",
       "      <td>Choque con lesionados</td>\n",
       "      <td>VENUSTIANO CARRANZA</td>\n",
       "      <td>19.451360</td>\n",
       "      <td>-99.115660</td>\n",
       "      <td>D</td>\n",
       "      <td>URGENCIAS MEDICAS</td>\n",
       "      <td>BOTÃ“N DE AUXILIO</td>\n",
       "      <td>VENUSTIANO CARRANZA</td>\n",
       "      <td>POPULAR RASTRO</td>\n",
       "    </tr>\n",
       "    <tr>\n",
       "      <th>3</th>\n",
       "      <td>C2N/20220101/00101</td>\n",
       "      <td>2022-01-01</td>\n",
       "      <td>09:56:54</td>\n",
       "      <td>SÃ¡bado</td>\n",
       "      <td>2022-01-01</td>\n",
       "      <td>13:04:08</td>\n",
       "      <td>Accidente</td>\n",
       "      <td>Choque sin lesionados</td>\n",
       "      <td>GUSTAVO A. MADERO</td>\n",
       "      <td>19.451630</td>\n",
       "      <td>-99.054690</td>\n",
       "      <td>A</td>\n",
       "      <td>EMERGENCIA</td>\n",
       "      <td>BOTÃ“N DE AUXILIO</td>\n",
       "      <td>GUSTAVO A. MADERO</td>\n",
       "      <td>C T M ARAGON (U)</td>\n",
       "    </tr>\n",
       "    <tr>\n",
       "      <th>4</th>\n",
       "      <td>C2N/20220101/00160</td>\n",
       "      <td>2022-01-01</td>\n",
       "      <td>18:10:42</td>\n",
       "      <td>SÃ¡bado</td>\n",
       "      <td>2022-01-01</td>\n",
       "      <td>21:14:13</td>\n",
       "      <td>Accidente</td>\n",
       "      <td>Choque con lesionados</td>\n",
       "      <td>GUSTAVO A. MADERO</td>\n",
       "      <td>19.482540</td>\n",
       "      <td>-99.082310</td>\n",
       "      <td>D</td>\n",
       "      <td>URGENCIAS MEDICAS</td>\n",
       "      <td>BOTÃ“N DE AUXILIO</td>\n",
       "      <td>GUSTAVO A. MADERO</td>\n",
       "      <td>CAMPESTRE ARAGON II</td>\n",
       "    </tr>\n",
       "  </tbody>\n",
       "</table>\n",
       "</div>"
      ],
      "text/plain": [
       "                folio fecha_creacion hora_creacion dia_semana fecha_cierre  \\\n",
       "0  C2C/20220101/00012     2022-01-01      01:06:39    SÃ¡bado   2022-01-01   \n",
       "1  C2C/20220101/00070     2022-01-01      09:51:53    SÃ¡bado   2022-01-01   \n",
       "2  C2N/20220101/00057     2022-01-01      03:33:05    SÃ¡bado   2022-01-01   \n",
       "3  C2N/20220101/00101     2022-01-01      09:56:54    SÃ¡bado   2022-01-01   \n",
       "4  C2N/20220101/00160     2022-01-01      18:10:42    SÃ¡bado   2022-01-01   \n",
       "\n",
       "  hora_cierre tipo_incidente_c4           incidente_c4      alcaldia_inicio  \\\n",
       "0    06:00:12         Accidente  Choque con lesionados           CUAUHTEMOC   \n",
       "1    12:54:10         Accidente           Motociclista           CUAUHTEMOC   \n",
       "2    06:44:09         Accidente  Choque con lesionados  VENUSTIANO CARRANZA   \n",
       "3    13:04:08         Accidente  Choque sin lesionados    GUSTAVO A. MADERO   \n",
       "4    21:14:13         Accidente  Choque con lesionados    GUSTAVO A. MADERO   \n",
       "\n",
       "     latitud   longitud codigo_cierre  clas_con_f_alarma       tipo_entrada  \\\n",
       "0  19.415250 -99.148320             A  URGENCIAS MEDICAS  BOTÃ“N DE AUXILIO   \n",
       "1  19.443649 -99.165781             A  URGENCIAS MEDICAS              RADIO   \n",
       "2  19.451360 -99.115660             D  URGENCIAS MEDICAS  BOTÃ“N DE AUXILIO   \n",
       "3  19.451630 -99.054690             A         EMERGENCIA  BOTÃ“N DE AUXILIO   \n",
       "4  19.482540 -99.082310             D  URGENCIAS MEDICAS  BOTÃ“N DE AUXILIO   \n",
       "\n",
       "       alcaldia_cierre              colonia  \n",
       "0           CUAUHTEMOC          DOCTORES IV  \n",
       "1           CUAUHTEMOC             TLAXPANA  \n",
       "2  VENUSTIANO CARRANZA       POPULAR RASTRO  \n",
       "3    GUSTAVO A. MADERO     C T M ARAGON (U)  \n",
       "4    GUSTAVO A. MADERO  CAMPESTRE ARAGON II  "
      ]
     },
     "execution_count": 24,
     "metadata": {},
     "output_type": "execute_result"
    }
   ],
   "source": [
    "accidentes.head()"
   ]
  },
  {
   "cell_type": "code",
   "execution_count": 28,
   "id": "12c9d1fa",
   "metadata": {},
   "outputs": [
    {
     "ename": "TypeError",
     "evalue": "no numeric data to plot",
     "output_type": "error",
     "traceback": [
      "\u001b[0;31m---------------------------------------------------------------------------\u001b[0m",
      "\u001b[0;31mTypeError\u001b[0m                                 Traceback (most recent call last)",
      "Cell \u001b[0;32mIn[28], line 1\u001b[0m\n\u001b[0;32m----> 1\u001b[0m \u001b[43maccidentes\u001b[49m\u001b[38;5;241;43m.\u001b[39;49m\u001b[43mplot\u001b[49m\u001b[43m(\u001b[49m\u001b[38;5;124;43m'\u001b[39;49m\u001b[38;5;124;43mtipo_incidente_c4\u001b[39;49m\u001b[38;5;124;43m'\u001b[39;49m\u001b[43m,\u001b[49m\u001b[38;5;124;43m'\u001b[39;49m\u001b[38;5;124;43mcolonia\u001b[39;49m\u001b[38;5;124;43m'\u001b[39;49m\u001b[43m,\u001b[49m\u001b[38;5;28;43mtype\u001b[39;49m\u001b[38;5;241;43m=\u001b[39;49m\u001b[43m \u001b[49m\u001b[38;5;124;43m'\u001b[39;49m\u001b[38;5;124;43m.\u001b[39;49m\u001b[38;5;124;43m'\u001b[39;49m\u001b[43m)\u001b[49m\n",
      "File \u001b[0;32m~/anaconda3/lib/python3.10/site-packages/pandas/plotting/_core.py:1000\u001b[0m, in \u001b[0;36mPlotAccessor.__call__\u001b[0;34m(self, *args, **kwargs)\u001b[0m\n\u001b[1;32m    997\u001b[0m             label_name \u001b[38;5;241m=\u001b[39m label_kw \u001b[38;5;129;01mor\u001b[39;00m data\u001b[38;5;241m.\u001b[39mcolumns\n\u001b[1;32m    998\u001b[0m             data\u001b[38;5;241m.\u001b[39mcolumns \u001b[38;5;241m=\u001b[39m label_name\n\u001b[0;32m-> 1000\u001b[0m \u001b[38;5;28;01mreturn\u001b[39;00m \u001b[43mplot_backend\u001b[49m\u001b[38;5;241;43m.\u001b[39;49m\u001b[43mplot\u001b[49m\u001b[43m(\u001b[49m\u001b[43mdata\u001b[49m\u001b[43m,\u001b[49m\u001b[43m \u001b[49m\u001b[43mkind\u001b[49m\u001b[38;5;241;43m=\u001b[39;49m\u001b[43mkind\u001b[49m\u001b[43m,\u001b[49m\u001b[43m \u001b[49m\u001b[38;5;241;43m*\u001b[39;49m\u001b[38;5;241;43m*\u001b[39;49m\u001b[43mkwargs\u001b[49m\u001b[43m)\u001b[49m\n",
      "File \u001b[0;32m~/anaconda3/lib/python3.10/site-packages/pandas/plotting/_matplotlib/__init__.py:71\u001b[0m, in \u001b[0;36mplot\u001b[0;34m(data, kind, **kwargs)\u001b[0m\n\u001b[1;32m     69\u001b[0m         kwargs[\u001b[38;5;124m\"\u001b[39m\u001b[38;5;124max\u001b[39m\u001b[38;5;124m\"\u001b[39m] \u001b[38;5;241m=\u001b[39m \u001b[38;5;28mgetattr\u001b[39m(ax, \u001b[38;5;124m\"\u001b[39m\u001b[38;5;124mleft_ax\u001b[39m\u001b[38;5;124m\"\u001b[39m, ax)\n\u001b[1;32m     70\u001b[0m plot_obj \u001b[38;5;241m=\u001b[39m PLOT_CLASSES[kind](data, \u001b[38;5;241m*\u001b[39m\u001b[38;5;241m*\u001b[39mkwargs)\n\u001b[0;32m---> 71\u001b[0m \u001b[43mplot_obj\u001b[49m\u001b[38;5;241;43m.\u001b[39;49m\u001b[43mgenerate\u001b[49m\u001b[43m(\u001b[49m\u001b[43m)\u001b[49m\n\u001b[1;32m     72\u001b[0m plot_obj\u001b[38;5;241m.\u001b[39mdraw()\n\u001b[1;32m     73\u001b[0m \u001b[38;5;28;01mreturn\u001b[39;00m plot_obj\u001b[38;5;241m.\u001b[39mresult\n",
      "File \u001b[0;32m~/anaconda3/lib/python3.10/site-packages/pandas/plotting/_matplotlib/core.py:450\u001b[0m, in \u001b[0;36mMPLPlot.generate\u001b[0;34m(self)\u001b[0m\n\u001b[1;32m    448\u001b[0m \u001b[38;5;28;01mdef\u001b[39;00m \u001b[38;5;21mgenerate\u001b[39m(\u001b[38;5;28mself\u001b[39m) \u001b[38;5;241m-\u001b[39m\u001b[38;5;241m>\u001b[39m \u001b[38;5;28;01mNone\u001b[39;00m:\n\u001b[1;32m    449\u001b[0m     \u001b[38;5;28mself\u001b[39m\u001b[38;5;241m.\u001b[39m_args_adjust()\n\u001b[0;32m--> 450\u001b[0m     \u001b[38;5;28;43mself\u001b[39;49m\u001b[38;5;241;43m.\u001b[39;49m\u001b[43m_compute_plot_data\u001b[49m\u001b[43m(\u001b[49m\u001b[43m)\u001b[49m\n\u001b[1;32m    451\u001b[0m     \u001b[38;5;28mself\u001b[39m\u001b[38;5;241m.\u001b[39m_setup_subplots()\n\u001b[1;32m    452\u001b[0m     \u001b[38;5;28mself\u001b[39m\u001b[38;5;241m.\u001b[39m_make_plot()\n",
      "File \u001b[0;32m~/anaconda3/lib/python3.10/site-packages/pandas/plotting/_matplotlib/core.py:635\u001b[0m, in \u001b[0;36mMPLPlot._compute_plot_data\u001b[0;34m(self)\u001b[0m\n\u001b[1;32m    633\u001b[0m \u001b[38;5;66;03m# no non-numeric frames or series allowed\u001b[39;00m\n\u001b[1;32m    634\u001b[0m \u001b[38;5;28;01mif\u001b[39;00m is_empty:\n\u001b[0;32m--> 635\u001b[0m     \u001b[38;5;28;01mraise\u001b[39;00m \u001b[38;5;167;01mTypeError\u001b[39;00m(\u001b[38;5;124m\"\u001b[39m\u001b[38;5;124mno numeric data to plot\u001b[39m\u001b[38;5;124m\"\u001b[39m)\n\u001b[1;32m    637\u001b[0m \u001b[38;5;28mself\u001b[39m\u001b[38;5;241m.\u001b[39mdata \u001b[38;5;241m=\u001b[39m numeric_data\u001b[38;5;241m.\u001b[39mapply(\u001b[38;5;28mself\u001b[39m\u001b[38;5;241m.\u001b[39m_convert_to_ndarray)\n",
      "\u001b[0;31mTypeError\u001b[0m: no numeric data to plot"
     ]
    }
   ],
   "source": [
    "accidentes.plot('tipo_incidente_c4','colonia',type= '.')"
   ]
  },
  {
   "cell_type": "code",
   "execution_count": null,
   "id": "7334cf62",
   "metadata": {},
   "outputs": [],
   "source": []
  },
  {
   "cell_type": "code",
   "execution_count": null,
   "id": "4a4100b4",
   "metadata": {},
   "outputs": [],
   "source": []
  },
  {
   "cell_type": "code",
   "execution_count": null,
   "id": "191c6fc8",
   "metadata": {},
   "outputs": [],
   "source": []
  },
  {
   "cell_type": "code",
   "execution_count": null,
   "id": "6e1aa41e",
   "metadata": {},
   "outputs": [],
   "source": []
  },
  {
   "cell_type": "code",
   "execution_count": null,
   "id": "c2dad524",
   "metadata": {},
   "outputs": [],
   "source": []
  },
  {
   "cell_type": "code",
   "execution_count": null,
   "id": "05b7398a",
   "metadata": {},
   "outputs": [],
   "source": []
  },
  {
   "cell_type": "code",
   "execution_count": null,
   "id": "1ceb68b9",
   "metadata": {},
   "outputs": [],
   "source": []
  },
  {
   "cell_type": "code",
   "execution_count": null,
   "id": "57cf14cd",
   "metadata": {},
   "outputs": [],
   "source": []
  },
  {
   "cell_type": "code",
   "execution_count": null,
   "id": "1b6bfe40",
   "metadata": {},
   "outputs": [],
   "source": []
  },
  {
   "cell_type": "code",
   "execution_count": null,
   "id": "8a6303ab",
   "metadata": {},
   "outputs": [],
   "source": []
  }
 ],
 "metadata": {
  "kernelspec": {
   "display_name": "Python 3 (ipykernel)",
   "language": "python",
   "name": "python3"
  },
  "language_info": {
   "codemirror_mode": {
    "name": "ipython",
    "version": 3
   },
   "file_extension": ".py",
   "mimetype": "text/x-python",
   "name": "python",
   "nbconvert_exporter": "python",
   "pygments_lexer": "ipython3",
   "version": "3.10.9"
  }
 },
 "nbformat": 4,
 "nbformat_minor": 5
}
